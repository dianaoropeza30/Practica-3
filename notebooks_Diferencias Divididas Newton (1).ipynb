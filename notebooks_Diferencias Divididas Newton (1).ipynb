{
  "metadata": {
    "kernelspec": {
      "name": "python",
      "display_name": "Python (Pyodide)",
      "language": "python"
    },
    "language_info": {
      "codemirror_mode": {
        "name": "python",
        "version": 3
      },
      "file_extension": ".py",
      "mimetype": "text/x-python",
      "name": "python",
      "nbconvert_exporter": "python",
      "pygments_lexer": "ipython3",
      "version": "3.8"
    }
  },
  "nbformat_minor": 5,
  "nbformat": 4,
  "cells": [
    {
      "cell_type": "code",
      "source": "import numpy as np\nimport sympy as sym",
      "metadata": {
        "trusted": true
      },
      "execution_count": 26,
      "outputs": [],
      "id": "350b02bd-d2a1-4d41-b9f2-a16a34676252"
    },
    {
      "cell_type": "code",
      "source": "#Datos de entrada para diferencias divididas\nx=[1.0,1.3,1.6,1.9,2.2]\ny=[0.7651977,0.6200860,0.4554022,0.2818186, 0.1103623]\nb=1.5",
      "metadata": {
        "trusted": true
      },
      "execution_count": 27,
      "outputs": [],
      "id": "d9500423-d0ec-4ba4-99cf-410880f3a99d"
    },
    {
      "cell_type": "code",
      "source": "#Matriz F\nF=np.zeros((len(x),len(y)))\n\n#Valores a F_j,0\n\nfor r in range(0,len(y)):\n  F[r][0]=y[r]\n\n\nfor i in range(1,len(y)):\n  for j in range(1,i+1):\n    F[i][j] = (F[i][j-1] - F[i-1][j-1])/(x[i]- x[i-j])",
      "metadata": {
        "trusted": true
      },
      "execution_count": 28,
      "outputs": [],
      "id": "9be244bc-0ea0-40a2-9c87-2261922ed632"
    },
    {
      "cell_type": "code",
      "source": "print(\"Tabla de valores para interpolar b=\", b)\nprint()\nprint(F)",
      "metadata": {
        "trusted": true
      },
      "execution_count": 29,
      "outputs": [
        {
          "name": "stdout",
          "text": "Tabla de valores para interpolar b= 1.5\n\n[[ 0.7651977   0.          0.          0.          0.        ]\n [ 0.620086   -0.48370567  0.          0.          0.        ]\n [ 0.4554022  -0.548946   -0.10873389  0.          0.        ]\n [ 0.2818186  -0.578612   -0.04944333  0.0658784   0.        ]\n [ 0.1103623  -0.571521    0.01181833  0.06806852  0.0018251 ]]\n",
          "output_type": "stream"
        }
      ],
      "id": "1ef67754-bffd-4336-b84a-04ee0d553b5d"
    },
    {
      "cell_type": "code",
      "source": "#Polinomio P(x)_n\n\np = F[0][0]\na=p\ns = sym.Symbol('x')\n\nfor j in range(1,len(y)):\n    m = F[j][j]\n    t = 1\n    for k in range(0,j,1):\n        t= t*(s - x[k])\n    p = t*m + p\n\nprint('P(x) = ',a,'+',p)",
      "metadata": {
        "trusted": true
      },
      "execution_count": 30,
      "outputs": [
        {
          "name": "stdout",
          "text": "P(x) =  0.7651977 + -0.483705666666666*x + 0.00182510288066044*(x - 1.9)*(x - 1.6)*(x - 1.3)*(x - 1.0) + 0.0658783950617283*(x - 1.6)*(x - 1.3)*(x - 1.0) - 0.108733888888889*(x - 1.3)*(x - 1.0) + 1.24890336666667\n",
          "output_type": "stream"
        }
      ],
      "id": "93121de9-b414-4624-9531-c467691bbe53"
    },
    {
      "cell_type": "code",
      "source": "# Simplifica multiplicando entre (x-xi)\nps = p.expand()\n\n#Polinomio para evaluacion numérica\npx = sym.lambdify(s,ps)\n\nprint('Polinomio evaluado en',b)\nprint(ps.subs(s,1.5))",
      "metadata": {
        "trusted": true
      },
      "execution_count": 32,
      "outputs": [
        {
          "name": "stdout",
          "text": "Polinomio evaluado en 1.5\n0.511819994238683\n",
          "output_type": "stream"
        }
      ],
      "id": "e9fd8fd8-9f76-47e4-b991-e1f2f65f0758"
    },
    {
      "cell_type": "code",
      "source": "",
      "metadata": {},
      "execution_count": null,
      "outputs": [],
      "id": "56b63e62-6b80-4fc7-93e6-4c0da04d0430"
    }
  ]
}