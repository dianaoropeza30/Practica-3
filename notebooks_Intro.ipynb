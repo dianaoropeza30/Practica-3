{
  "metadata": {
    "kernelspec": {
      "name": "python",
      "display_name": "Python (Pyodide)",
      "language": "python"
    },
    "language_info": {
      "codemirror_mode": {
        "name": "python",
        "version": 3
      },
      "file_extension": ".py",
      "mimetype": "text/x-python",
      "name": "python",
      "nbconvert_exporter": "python",
      "pygments_lexer": "ipython3",
      "version": "3.8"
    }
  },
  "nbformat_minor": 5,
  "nbformat": 4,
  "cells": [
    {
      "cell_type": "code",
      "source": "#Interpolación por el método de Neville\nimport numpy as np\n#Se pidn  los datos de  entrada\nx=[1.0,1.3,1.6,1.9,2.2]\ny=[0.7651977,0.6200860,0.4554022,0.2818186, 0.1103623]\n#Se crea la matriz Q a llenar\nQ=np.zeros((len(x),len(y)))\n#valor al que se quiere interpolar\na=1.5\n#Se llenan los Q_j,0\nfor r in range(0,len(y)):\n  Q[r][0]=y[r]\n#Se aplica el agoritmo\nfor i in range(1,len(y)):\n  for j in range(1,i+1):\n    Q[i][j]=((a- x[i-j])*(Q[i][j-1])-(a-x[i])*(Q[i-1][j-1]))/(x[i]-x[i-j])\n\nprint(\"Valores interpolados para 1.5\")\nprint(Q)",
      "metadata": {
        "trusted": true
      },
      "execution_count": null,
      "outputs": [],
      "id": "32ce7042-216f-4269-aa79-70ec0ed25c40"
    }
  ]
}